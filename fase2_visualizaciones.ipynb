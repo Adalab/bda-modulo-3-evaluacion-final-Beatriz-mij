{
 "cells": [
  {
   "cell_type": "code",
   "execution_count": null,
   "metadata": {},
   "outputs": [],
   "source": [
    "import pandas as pd\n",
    "import matplotlib.pyplot as plt\n",
    "import seaborn as sns"
   ]
  },
  {
   "cell_type": "code",
   "execution_count": null,
   "metadata": {},
   "outputs": [],
   "source": [
    "df_customer_flight_activity_definitivo = pd.read_csv('Customer Flight Activity.csv')\n",
    "df_customer_loyalty_history = pd.read_csv('Customer Loyalty History.csv')\n",
    "print(\"\\n--- Flights Data ---\")\n",
    "print(df_customer_flight_activity_definitivo.head())\n",
    "print(\"\\n--- Loyalty Data ---\")\n",
    "print(df_customer_loyalty_history.head())"
   ]
  },
  {
   "cell_type": "code",
   "execution_count": null,
   "metadata": {},
   "outputs": [],
   "source": [
    "df = pd.merge(flights_df, loyalty_df, on='Loyalty Number', how='inner')\n",
    "df['Month'] = df['Month'].astype(int)\n",
    "print(\"\\n--- Data Unificada ---\")\n",
    "print(df.info())\n",
    "print(df.head())"
   ]
  },
  {
   "cell_type": "markdown",
   "metadata": {},
   "source": [
    "1. ¿Cómo se distribuye la cantidad de vuelos reservados por mes durante el año?"
   ]
  },
  {
   "cell_type": "code",
   "execution_count": null,
   "metadata": {},
   "outputs": [],
   "source": [
    "flights_by_month = df_merged.groupby('Month')['Flights Booked'].sum().reset_index()\n",
    "sns.barplot(x='Month', y='Flights Booked', data=flights_by_month, palette='viridis')\n",
    "plt.title('Vuelos Reservados por Mes')\n",
    "plt.xlabel('Mes')\n",
    "plt.ylabel('Total de Vuelos Reservados')\n",
    "plt.xticks(range(0,12), [str(i+1) for i in range(12)])\n",
    "plt.show()"
   ]
  },
  {
   "cell_type": "markdown",
   "metadata": {},
   "source": [
    "2. ¿Existe una relación entre la distancia de los vuelos y los puntos acumulados por los cliente?"
   ]
  },
  {
   "cell_type": "code",
   "execution_count": null,
   "metadata": {},
   "outputs": [],
   "source": [
    "sns.scatterplot(x='Distance', y='Points Accumulated', data=df, alpha=0.6)\n",
    "plt.title('Relación entre Distancia y Puntos Acumulados')\n",
    "plt.xlabel('Distancia Volada')\n",
    "plt.ylabel('Puntos Acumulados')\n",
    "plt.show()"
   ]
  },
  {
   "cell_type": "markdown",
   "metadata": {},
   "source": [
    "3. ¿Cuál es la distribución de los clientes por provincia o estado?"
   ]
  },
  {
   "cell_type": "code",
   "execution_count": null,
   "metadata": {},
   "outputs": [],
   "source": [
    "province_counts = df['Province'].value_counts().reset_index()\n",
    "province_counts.columns = ['Province', 'Count']\n",
    "sns.barplot(y='Province', x='Count', data=province_counts, palette='viridis')\n",
    "plt.title('Distribución de Clientes por Provincia/Estado')\n",
    "plt.xlabel('Número de Clientes')\n",
    "plt.ylabel('Provincia/Estado')\n",
    "plt.show()"
   ]
  },
  {
   "cell_type": "markdown",
   "metadata": {},
   "source": [
    "4. ¿Cómo se compara el salario promedio entre los diferentes niveles educativos de los clientes?"
   ]
  },
  {
   "cell_type": "code",
   "execution_count": null,
   "metadata": {},
   "outputs": [],
   "source": [
    "edu_salary = df.groupby('Education')['Salary'].mean().reset_index()\n",
    "sns.barplot(x='Education', y='Salary', data=edu_salary, palette='Set2')\n",
    "plt.title('Salario Promedio por Nivel Educativo')\n",
    "plt.xlabel('Nivel Educativo')\n",
    "plt.ylabel('Salario Promedio')\n",
    "plt.xticks(rotation=45)\n",
    "plt.show()"
   ]
  },
  {
   "cell_type": "markdown",
   "metadata": {},
   "source": [
    "5. ¿Cuál es la proporción de clientes con diferentes tipos de tarjetas de fidelidad?"
   ]
  },
  {
   "cell_type": "code",
   "execution_count": null,
   "metadata": {},
   "outputs": [],
   "source": [
    "card_counts = df['Loyalty Card'].value_counts(normalize=True).reset_index()\n",
    "card_counts.columns = ['Loyalty Card', 'Proportion']\n",
    "plt.pie(card_counts['Proportion'], labels=card_counts['Loyalty Card'], autopct='%1.1f%%', startangle=140, colors=sns.color_palette('pastel'))\n",
    "plt.title('Proporción de Tipos de Tarjetas de Fidelidad')\n",
    "plt.axis('equal')\n",
    "plt.show()"
   ]
  },
  {
   "cell_type": "markdown",
   "metadata": {},
   "source": [
    "6. ¿Cómo se distribuyen los clientes según su estado civil y género?"
   ]
  },
  {
   "cell_type": "code",
   "execution_count": null,
   "metadata": {},
   "outputs": [],
   "source": [
    "sns.countplot(x='Marital Status', hue='Gender', data=df, palette='muted')\n",
    "plt.title('Distribución por Estado Civil y Género')\n",
    "plt.xlabel('Estado Civil')\n",
    "plt.ylabel('Número de Clientes')\n",
    "plt.legend(title='Género')\n",
    "plt.show()"
   ]
  }
 ],
 "metadata": {
  "kernelspec": {
   "display_name": "base",
   "language": "python",
   "name": "python3"
  },
  "language_info": {
   "codemirror_mode": {
    "name": "ipython",
    "version": 3
   },
   "file_extension": ".py",
   "mimetype": "text/x-python",
   "name": "python",
   "nbconvert_exporter": "python",
   "pygments_lexer": "ipython3",
   "version": "3.12.7"
  }
 },
 "nbformat": 4,
 "nbformat_minor": 2
}
